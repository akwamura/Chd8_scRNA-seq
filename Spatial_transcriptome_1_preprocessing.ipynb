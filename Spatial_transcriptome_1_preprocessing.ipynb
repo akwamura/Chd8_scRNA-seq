{
 "cells": [
  {
   "cell_type": "code",
   "execution_count": null,
   "id": "935d33b7-f9f3-40e0-bd64-29814fb57826",
   "metadata": {},
   "outputs": [],
   "source": [
    "\n",
    "from pathlib import Path\n",
    "\n",
    "import numpy as np\n",
    "\n",
    "import matplotlib.pyplot as plt\n",
    "import seaborn as sns\n",
    "\n",
    "import scanpy as sc\n",
    "import squidpy as sq\n",
    "\n",
    "import anndata as ad\n",
    "\n",
    "import pandas as pd\n",
    "\n",
    "import scvi\n",
    "\n",
    "sc.logging.print_header()"
   ]
  },
  {
   "cell_type": "code",
   "execution_count": null,
   "id": "67d7db77-c6de-4a7a-936c-94484151496d",
   "metadata": {},
   "outputs": [],
   "source": [
    "\n",
    "adata = sq.read.nanostring(\n",
    "    path=\"\",\n",
    "    counts_file=\"exprMat_file.csv\",\n",
    "    meta_file=\"metadata_file.csv\",\n",
    "    fov_file=\"fov_positions_file.csv\",\n",
    ")"
   ]
  },
  {
   "cell_type": "code",
   "execution_count": null,
   "id": "c1ad5d0d",
   "metadata": {},
   "outputs": [],
   "source": [
    "display(adata)"
   ]
  },
  {
   "cell_type": "code",
   "execution_count": null,
   "id": "beea35b3",
   "metadata": {},
   "outputs": [],
   "source": [
    "adata.obs['genotype'] = pd.to_numeric(adata.obs['fov']).apply(lambda x: 'WT' if 1 <= x <= 35 else 'MT' if 36 <= x <= 70 else 'unknown')"
   ]
  },
  {
   "cell_type": "code",
   "execution_count": null,
   "id": "8e8a12bf",
   "metadata": {},
   "outputs": [],
   "source": [
    "display(adata)"
   ]
  },
  {
   "cell_type": "code",
   "execution_count": null,
   "id": "71eb659c",
   "metadata": {},
   "outputs": [],
   "source": [
    "\n",
    "filtered_var_names = [\n",
    "    name for name in adata.var_names\n",
    "    if not name.startswith('SystemControl') and not name.startswith('Negative')\n",
    "]\n",
    "\n",
    "adata = adata[:, filtered_var_names]\n",
    "\n",
    "print(adata.var_names)"
   ]
  },
  {
   "cell_type": "code",
   "execution_count": null,
   "id": "9e35d04e",
   "metadata": {},
   "outputs": [],
   "source": [
    "adata.var[\"NegPrb\"] = adata.var_names.str.startswith(\"NegPrb\")\n",
    "sc.pp.calculate_qc_metrics(adata, qc_vars=[\"NegPrb\"], inplace=True)"
   ]
  },
  {
   "cell_type": "code",
   "execution_count": null,
   "id": "f4a9941a",
   "metadata": {},
   "outputs": [],
   "source": [
    "pd.set_option(\"display.max_columns\", None)"
   ]
  },
  {
   "cell_type": "code",
   "execution_count": null,
   "id": "cd1dd191",
   "metadata": {},
   "outputs": [],
   "source": [
    "adata.obs[\"total_counts_NegPrb\"].sum() / adata.obs[\"total_counts\"].sum() * 100"
   ]
  },
  {
   "cell_type": "code",
   "execution_count": null,
   "id": "8bca46f2",
   "metadata": {},
   "outputs": [],
   "source": [
    "\n",
    "fig, axs = plt.subplots(1, 3, figsize=(15, 4))\n",
    "\n",
    "axs[0].set_title(\"Total transcripts per cell\")\n",
    "sns.histplot(\n",
    "    adata.obs[\"total_counts\"],\n",
    "    kde=False,\n",
    "    ax=axs[0],\n",
    ")\n",
    "\n",
    "axs[1].set_title(\"Unique transcripts per cell\")\n",
    "sns.histplot(\n",
    "    adata.obs[\"n_genes_by_counts\"],\n",
    "    kde=False,\n",
    "    ax=axs[1],\n",
    ")\n",
    "\n",
    "axs[2].set_title(\"Transcripts per FOV\")\n",
    "sns.histplot(\n",
    "    adata.obs.groupby(\"fov\").sum()[\"total_counts\"],\n",
    "    kde=False,\n",
    "    ax=axs[2],\n",
    ")"
   ]
  },
  {
   "cell_type": "code",
   "execution_count": null,
   "id": "252df4be",
   "metadata": {},
   "outputs": [],
   "source": [
    "\n",
    "MIN_COUNTS = 200\n",
    "MIN_GENES = 120\n",
    "MIN_CELLS = 500\n",
    "\n",
    "print('Total number of cells: {:d}'.format(adata.n_obs))\n",
    "\n",
    "sc.pp.filter_cells(adata, min_counts = MIN_COUNTS)\n",
    "print('Number of cells after min count filter: {:d}'.format(adata.n_obs))\n",
    "\n",
    "sc.pp.filter_cells(adata, min_genes = MIN_GENES)\n",
    "print('Number of cells after gene filter: {:d}'.format(adata.n_obs))\n",
    "\n",
    "sc.pp.filter_genes(adata, min_cells = MIN_CELLS)\n",
    "print('Number of cells after cell filter: {:d}'.format(adata.n_obs))\n",
    "\n"
   ]
  },
  {
   "cell_type": "code",
   "execution_count": null,
   "id": "6082ffd1",
   "metadata": {},
   "outputs": [],
   "source": [
    "\n",
    "fig, axs = plt.subplots(1, 3, figsize=(15, 4))\n",
    "\n",
    "axs[0].set_title(\"Total transcripts per cell\")\n",
    "sns.histplot(\n",
    "    adata.obs[\"total_counts\"],\n",
    "    kde=False,\n",
    "    ax=axs[0],\n",
    ")\n",
    "\n",
    "axs[1].set_title(\"Unique transcripts per cell\")\n",
    "sns.histplot(\n",
    "    adata.obs[\"n_genes_by_counts\"],\n",
    "    kde=False,\n",
    "    ax=axs[1],\n",
    ")\n",
    "\n",
    "axs[2].set_title(\"Transcripts per FOV\")\n",
    "sns.histplot(\n",
    "    adata.obs.groupby(\"fov\").sum()[\"total_counts\"],\n",
    "    kde=False,\n",
    "    ax=axs[2],\n",
    ")"
   ]
  },
  {
   "cell_type": "code",
   "execution_count": null,
   "id": "a93d084d",
   "metadata": {},
   "outputs": [],
   "source": [
    "adata.layers[\"counts\"] = adata.X.copy()"
   ]
  },
  {
   "cell_type": "code",
   "execution_count": null,
   "id": "4f95941f",
   "metadata": {},
   "outputs": [],
   "source": [
    "sc.pp.normalize_total(adata, inplace=True)\n",
    "sc.pp.log1p(adata)"
   ]
  },
  {
   "cell_type": "code",
   "execution_count": null,
   "id": "0d4af0ab",
   "metadata": {},
   "outputs": [],
   "source": [
    "sc.pp.highly_variable_genes(adata, flavor='seurat_v3', n_top_genes=300)\n",
    "print('\\n','Number of highly variable genes: {:d}'.format(np.sum(adata.var['highly_variable'])))"
   ]
  },
  {
   "cell_type": "code",
   "execution_count": null,
   "id": "8e4a3938",
   "metadata": {},
   "outputs": [],
   "source": [
    "sc.pl.highly_variable_genes(adata)"
   ]
  },
  {
   "cell_type": "code",
   "execution_count": null,
   "id": "8192e61f",
   "metadata": {},
   "outputs": [],
   "source": [
    "adata.var"
   ]
  },
  {
   "cell_type": "code",
   "execution_count": null,
   "id": "25a8b6bc",
   "metadata": {},
   "outputs": [],
   "source": [
    "sc.pp.pca(adata, n_comps=50, use_highly_variable=True, svd_solver='arpack')"
   ]
  },
  {
   "cell_type": "code",
   "execution_count": null,
   "id": "965eb4be",
   "metadata": {},
   "outputs": [],
   "source": [
    "print(adata.obsm['X_pca'].shape)"
   ]
  },
  {
   "cell_type": "code",
   "execution_count": null,
   "id": "8485fb07",
   "metadata": {},
   "outputs": [],
   "source": [
    "sc.pl.pca(adata, color='total_counts')"
   ]
  },
  {
   "cell_type": "code",
   "execution_count": null,
   "id": "db93d385",
   "metadata": {},
   "outputs": [],
   "source": [
    "sc.pl.pca(adata, color='total_counts', components=['1,2', '2,3', '1,3'])"
   ]
  },
  {
   "cell_type": "code",
   "execution_count": null,
   "id": "d1afbb30",
   "metadata": {},
   "outputs": [],
   "source": [
    "sc.pp.neighbors(adata)"
   ]
  },
  {
   "cell_type": "code",
   "execution_count": null,
   "id": "e2fed6b5",
   "metadata": {},
   "outputs": [],
   "source": [
    "adata.obsp['connectivities']"
   ]
  },
  {
   "cell_type": "code",
   "execution_count": null,
   "id": "402dac06",
   "metadata": {},
   "outputs": [],
   "source": [
    "sc.tl.umap(adata)"
   ]
  },
  {
   "cell_type": "code",
   "execution_count": null,
   "id": "c6936668",
   "metadata": {},
   "outputs": [],
   "source": [
    "sc.pl.umap(adata, color='total_counts')"
   ]
  },
  {
   "cell_type": "code",
   "execution_count": null,
   "id": "3e1c6d50",
   "metadata": {},
   "outputs": [],
   "source": [
    "sc.tl.leiden(adata, resolution=0.5, key_added='leiden_r0.5')"
   ]
  },
  {
   "cell_type": "code",
   "execution_count": null,
   "id": "143be726",
   "metadata": {},
   "outputs": [],
   "source": [
    "sc.pl.umap(adata, color=['genotype', 'leiden_r0.5'], ncols=2, frameon=False)"
   ]
  },
  {
   "cell_type": "code",
   "execution_count": null,
   "id": "797eca63",
   "metadata": {},
   "outputs": [],
   "source": [
    "scvi.model.SCVI.setup_anndata(\n",
    "    adata,\n",
    "    layer='counts',\n",
    "    batch_key='genotype',\n",
    ")\n"
   ]
  },
  {
   "cell_type": "code",
   "execution_count": null,
   "id": "df7b2989",
   "metadata": {},
   "outputs": [],
   "source": [
    "model = scvi.model.SCVI(adata)"
   ]
  },
  {
   "cell_type": "code",
   "execution_count": null,
   "id": "ea048a3d",
   "metadata": {},
   "outputs": [],
   "source": [
    "model.train()"
   ]
  },
  {
   "cell_type": "code",
   "execution_count": null,
   "id": "f5c6031b",
   "metadata": {},
   "outputs": [],
   "source": [
    "model.save('./models/scVI_model', overwrite=True)"
   ]
  },
  {
   "cell_type": "code",
   "execution_count": null,
   "id": "3dcde0e4",
   "metadata": {},
   "outputs": [],
   "source": [
    "adata.write(filename='./adata_scvimodel.h5ad')"
   ]
  },
  {
   "cell_type": "code",
   "execution_count": null,
   "id": "98bfffe9",
   "metadata": {},
   "outputs": [],
   "source": [
    "adata.obsm['X_scVI'] = model.get_latent_representation()"
   ]
  },
  {
   "cell_type": "code",
   "execution_count": null,
   "id": "065b280a",
   "metadata": {},
   "outputs": [],
   "source": [
    "adata.layers['scvi_normalized'] = model.get_normalized_expression(library_size=1e4)"
   ]
  },
  {
   "cell_type": "code",
   "execution_count": null,
   "id": "07230565",
   "metadata": {},
   "outputs": [],
   "source": [
    "adata"
   ]
  },
  {
   "cell_type": "code",
   "execution_count": null,
   "id": "051cb5b4",
   "metadata": {},
   "outputs": [],
   "source": [
    "sc.pp.neighbors(adata,\n",
    "                n_neighbors=30,\n",
    "                use_rep=\"X_scVI\")\n",
    "sc.tl.umap(adata, min_dist=0.2)\n",
    "sc.pl.umap(adata, color='genotype')"
   ]
  },
  {
   "cell_type": "code",
   "execution_count": null,
   "id": "d3396c1c",
   "metadata": {},
   "outputs": [],
   "source": [
    "sc.tl.leiden(adata, key_added=\"leiden_scVI\", resolution=0.5)\n",
    "sc.pl.umap(adata,\n",
    "           color=['genotype', 'leiden_scVI'],\n",
    "           ncols=2,\n",
    "           frameon=False)"
   ]
  },
  {
   "cell_type": "code",
   "execution_count": null,
   "id": "363f3d43",
   "metadata": {},
   "outputs": [],
   "source": []
  },
  {
   "cell_type": "code",
   "execution_count": null,
   "id": "7d3d9c10",
   "metadata": {},
   "outputs": [],
   "source": []
  }
 ],
 "metadata": {
  "kernelspec": {
   "display_name": "Python 3 (ipykernel)",
   "language": "python",
   "name": "python3"
  },
  "language_info": {
   "codemirror_mode": {
    "name": "ipython",
    "version": 3
   },
   "file_extension": ".py",
   "mimetype": "text/x-python",
   "name": "python",
   "nbconvert_exporter": "python",
   "pygments_lexer": "ipython3",
   "version": "3.9.20"
  }
 },
 "nbformat": 4,
 "nbformat_minor": 5
}
