{
 "cells": [
  {
   "cell_type": "code",
   "execution_count": null,
   "id": "9c39078b",
   "metadata": {},
   "outputs": [],
   "source": [
    "import warnings\n",
    "warnings.filterwarnings('ignore')\n",
    "\n",
    "import os\n",
    "import numpy as np\n",
    "import pandas as pd\n",
    "import scanpy as sc\n",
    "import anndata\n",
    "import matplotlib.pyplot as plt\n",
    "import seaborn as sns\n",
    "\n",
    "sc.logging.print_header()\n",
    "sc.settings.set_figure_params(dpi=100, facecolor='white')"
   ]
  },
  {
   "cell_type": "code",
   "execution_count": null,
   "id": "c0a5f2c5",
   "metadata": {},
   "outputs": [],
   "source": [
    "adata = sc.read_h5ad('./ad_scvimodel.h5ad')"
   ]
  },
  {
   "cell_type": "code",
   "execution_count": null,
   "id": "4e90b0d3",
   "metadata": {},
   "outputs": [],
   "source": [
    "adata"
   ]
  },
  {
   "cell_type": "code",
   "execution_count": null,
   "id": "eaaeb11f",
   "metadata": {},
   "outputs": [],
   "source": [
    "sc.pl.umap(adata,\n",
    "           color=['batch', 'Genotype', 'Sex', 'leiden_scVI'],\n",
    "           ncols=2,\n",
    "           frameon=False)"
   ]
  },
  {
   "cell_type": "code",
   "execution_count": null,
   "id": "1970aa88-98db-4be2-8f58-2dda8cf41233",
   "metadata": {},
   "outputs": [],
   "source": [
    "genotype_colors = {'WT': '#808080', 'MT': '#8B0000'}\n",
    "\n",
    "sc.pl.umap(adata, color='Genotype', palette=genotype_colors, size=3, frameon=False, title='Genotype')"
   ]
  },
  {
   "cell_type": "code",
   "execution_count": null,
   "id": "28107b48",
   "metadata": {},
   "outputs": [],
   "source": [
    "sc.pl.umap(adata, color='leiden_scVI', add_outline=True, legend_loc='on data',\n",
    "           legend_fontsize=12, legend_fontoutline=2,frameon=False,\n",
    "           title='clustering of cells')"
   ]
  },
  {
   "cell_type": "code",
   "execution_count": null,
   "id": "9078e5d0-9ccb-42a4-87f3-0b29bd3a6887",
   "metadata": {},
   "outputs": [],
   "source": [
    "sc.pl.umap(adata, color=['Naaa', 'Mki67', 'Ascl1', 'Neurod1', 'Dlx1', 'Aldh1l1', 'Pdgfra','Mbp', 'Cx3cr1', 'Bgn', 'Cldn5'])"
   ]
  },
  {
   "cell_type": "code",
   "execution_count": null,
   "id": "be97c5c3-556c-4d06-bcd7-868d3b75746a",
   "metadata": {},
   "outputs": [],
   "source": [
    "cell_type_names = {\n",
    "    '0': 'Astrocyte',\n",
    "    '1': 'Inhibitory_neuron',\n",
    "    '2': 'OPC',\n",
    "    '3': 'In_progenitor',\n",
    "    '4': 'Ex_neuron',\n",
    "    '5': 'Astrocyte_progenitor',\n",
    "    '6': 'Astrocyte',\n",
    "    '7': 'NPC',\n",
    "    '8': 'OPC',\n",
    "    '9': 'Inhibitory_neuron',\n",
    "    '10': 'Pericyte',\n",
    "    '11': 'Oligodendrocyte',\n",
    "    '12': 'pri-OPC',\n",
    "    '13': 'Microglia',\n",
    "    '14': 'Ex_neuron',\n",
    "    '15': 'Endothelial_cell',\n",
    "    '16': 'Astrocyte',\n",
    "    '17': 'Pericyte'\n",
    "}\n",
    "\n",
    "adata.obs['cell_type_name'] = adata.obs['leiden_scVI'].map(cell_type_names)"
   ]
  },
  {
   "cell_type": "code",
   "execution_count": null,
   "id": "4f747d35-d01e-4f93-9cf5-b272012b3759",
   "metadata": {},
   "outputs": [],
   "source": [
    "sc.pl.umap(adata,\n",
    "           color=['Genotype', 'cell_type_name'],\n",
    "           ncols=2,\n",
    "           frameon=False)"
   ]
  },
  {
   "cell_type": "code",
   "execution_count": null,
   "id": "91fc3f19-daed-448b-98d8-139bf4443337",
   "metadata": {},
   "outputs": [],
   "source": [
    "cluster_to_color = {\n",
    "    'Astrocyte': '#2ca02c',\n",
    "    'Astrocyte_progenitor': '#f3fbd4',\n",
    "    'Endothelial_cell': '#7f7f7f',\n",
    "    'Ex_neuron': '#ff7f0e',\n",
    "    'In_progenitor': '#ff9896',\n",
    "    'Inhibitory_neuron': '#d62728',\n",
    "    'Microglia': '#8c564b',\n",
    "    'NPC': '#313695',\n",
    "    'pri-OPC': '#aec7e8',\n",
    "    'OPC': '#1f77b4',\n",
    "    'Oligodendrocyte': '#9467bd',\n",
    "    'Pericyte': '#ffbb78'\n",
    "}\n",
    "\n",
    "adata.obs['cell_type_name_colors'] = adata.obs['cell_type_name'].map(cluster_to_color)\n",
    "\n",
    "palette = [cluster_to_color[cluster] for cluster in adata.obs['cell_type_name'].cat.categories]\n",
    "\n",
    "sc.pl.umap(adata,\n",
    "           color=['Genotype', 'cell_type_name'],\n",
    "           ncols=2,\n",
    "           frameon=False)"
   ]
  },
  {
   "cell_type": "code",
   "execution_count": null,
   "id": "8312ca30-66eb-4043-99f6-2d015480e16f",
   "metadata": {},
   "outputs": [],
   "source": [
    "genes_of_interest = ['Aldh1l1', 'Plp1', 'Pdgfra', 'Olig2', 'Neurod1', 'Dlx1', 'Naaa', 'Cx3cr1', 'Cldn5', 'Bgn', 'Mki67']\n",
    "\n",
    "sc.pl.dotplot(\n",
    "    adata,\n",
    "    genes_of_interest,\n",
    "    groupby='cell_type_name',\n",
    "    dendrogram=True,\n",
    "    color_map=\"Blues\",\n",
    "    swap_axes=True,\n",
    "    use_raw=False,\n",
    "    standard_scale='var')"
   ]
  },
  {
   "cell_type": "code",
   "execution_count": null,
   "id": "fa0d1405-11c6-4b4d-a8ee-eef5ed5c7577",
   "metadata": {},
   "outputs": [],
   "source": [
    "adata_temp = adata.obs[['Genotype', 'cell_type_name']]"
   ]
  },
  {
   "cell_type": "code",
   "execution_count": null,
   "id": "8ccaaa7d-7dc4-4b03-93a9-09c0c8daf41c",
   "metadata": {},
   "outputs": [],
   "source": [
    "adata_temp"
   ]
  },
  {
   "cell_type": "code",
   "execution_count": null,
   "id": "bffb0fe9-8815-4981-af5b-06ec1b0e2f0b",
   "metadata": {},
   "outputs": [],
   "source": [
    "adata_temp.groupby('cell_type_name')['Genotype'].value_counts(normalize=False)"
   ]
  },
  {
   "cell_type": "code",
   "execution_count": null,
   "id": "b26cd416-23e2-4181-8c26-701426a3e74f",
   "metadata": {},
   "outputs": [],
   "source": [
    "data = {\n",
    "    'cell_type_name': ['Astrocyte', 'Astrocyte', 'Astrocyte_progenitor', 'Astrocyte_progenitor',\n",
    "                       'Endothelial_cell', 'Endothelial_cell', 'Ex_neuron', 'Ex_neuron',\n",
    "                       'In_progenitor', 'In_progenitor', 'Inhibitory_neuron', 'Inhibitory_neuron',\n",
    "                       'Microglia', 'Microglia', 'NPC', 'NPC', 'OPC', 'OPC',\n",
    "                       'Oligodendrocyte', 'Oligodendrocyte', 'pri-OPC', 'pri-OPC'],\n",
    "    'Genotype': ['WT', 'MT', 'WT', 'MT', 'MT', 'WT', 'WT', 'MT', 'WT', 'MT',\n",
    "                 'WT', 'MT', 'WT', 'MT', 'WT', 'MT', 'MT', 'WT', 'MT', 'WT',\n",
    "                 'MT', 'WT'],\n",
    "    'Counts': [2496, 2394, 557, 549, 523, 321, 852, 682, 753, 655, 1461, 1265,\n",
    "               234, 117, 437, 428, 1681, 1133, 348, 202, 298, 235]\n",
    "}\n",
    "\n",
    "df = pd.DataFrame(data)\n",
    "\n",
    "total_wt = df[df['Genotype'] == 'WT']['Counts'].sum()\n",
    "total_mt = df[df['Genotype'] == 'MT']['Counts'].sum()\n",
    "\n",
    "df['Percentage'] = df.apply(lambda x: x['Counts'] / total_wt * 100 if x['Genotype'] == 'WT' else x['Counts'] / total_mt * 100, axis=1)\n",
    "\n",
    "wt_data = df[df['Genotype'] == 'WT'][['cell_type_name', 'Percentage']].rename(columns={'Percentage': 'WT_Percentage'})\n",
    "mt_data = df[df['Genotype'] == 'MT'][['cell_type_name', 'Percentage']].rename(columns={'Percentage': 'MT_Percentage'})\n",
    "combined_data = pd.merge(wt_data, mt_data, on='cell_type_name', how='outer').fillna(0)\n",
    "\n",
    "fig, ax = plt.subplots(figsize=(10, 8))\n",
    "indices = range(len(combined_data))\n",
    "bar_width = 0.35\n",
    "\n",
    "ax.bar(indices, combined_data['WT_Percentage'], width=bar_width, label='WT', color='#1f77b4')\n",
    "ax.bar([i + bar_width for i in indices], combined_data['MT_Percentage'], width=bar_width, label='MT', color='#ff7f0e')\n",
    "\n",
    "ax.set_xlabel('Cell Type')\n",
    "ax.set_ylabel('Percentage')\n",
    "ax.set_title('Percentage of Each Cell Type by Genotype')\n",
    "ax.set_xticks([i + bar_width / 2 for i in indices])\n",
    "ax.set_xticklabels(combined_data['cell_type_name'], rotation=90)\n",
    "ax.legend()\n",
    "\n",
    "plt.tight_layout()\n",
    "plt.show()"
   ]
  },
  {
   "cell_type": "code",
   "execution_count": null,
   "id": "bc011407-354c-41dc-afb3-dd2292c006ae",
   "metadata": {},
   "outputs": [],
   "source": [
    "adata.uns['log1p'][\"base\"] = None\n",
    "sc.tl.rank_genes_groups(adata, 'leiden_scVI', use_raw=False, layer='counts', method='wilcoxon')\n",
    "sc.pl.rank_genes_groups(adata, n_genes=25, sharey=False)"
   ]
  },
  {
   "cell_type": "code",
   "execution_count": null,
   "id": "1aea217c-9115-4ca5-93ee-aeb71d832801",
   "metadata": {},
   "outputs": [],
   "source": [
    "adata.uns['log1p'][\"base\"] = None\n",
    "sc.tl.rank_genes_groups(adata, 'cell_type_name', use_raw=False, layer='counts', method='wilcoxon')\n",
    "sc.pl.rank_genes_groups(adata, n_genes=25, sharey=False)"
   ]
  },
  {
   "cell_type": "code",
   "execution_count": null,
   "id": "34903417-f113-43f6-9bad-0d8189e32e6b",
   "metadata": {},
   "outputs": [],
   "source": [
    "unique_cell_types = adata.obs['cell_type_name'].unique()\n",
    "\n",
    "for cell_type in unique_cell_types:\n",
    "    temp = adata[adata.obs['cell_type_name'] == cell_type, :]\n",
    "    \n",
    "    sc.tl.rank_genes_groups(temp, groupby='Genotype', use_raw=True, method='wilcoxon')\n",
    "    \n",
    "    df = sc.get.rank_genes_groups_df(temp, group='MT')\n",
    "    df.to_csv(f'./rank_genes/{cell_type}_rank_genes.csv')"
   ]
  },
  {
   "cell_type": "code",
   "execution_count": null,
   "id": "b22d7d10-b3a4-4617-8791-6f987b56d6d1",
   "metadata": {},
   "outputs": [],
   "source": [
    "combined_df = pd.DataFrame()\n",
    "\n",
    "for cell_type_names, cell_type in cell_type_names.items():\n",
    "    temp_df = pd.read_csv(f'./rank_genes/{cell_type}_rank_genes.csv')\n",
    "    temp_df = temp_df[temp_df['pvals_adj'] < 0.05]\n",
    "    temp_df['cluster'] = cell_type\n",
    "    combined_df = pd.concat([combined_df, temp_df])\n",
    "\n",
    "combined_df = combined_df.drop_duplicates()\n",
    "\n",
    "ordered_cell_types = [\n",
    "    'Ex_neuron',\n",
    "    'In_progenitor',\n",
    "    'Inhibitory_neuron',\n",
    "    'NPC',\n",
    "    'Astrocyte_progenitor',\n",
    "    'Astrocyte',\n",
    "    'pri-OPC',\n",
    "    'OPC',\n",
    "    'Oligodendrocyte',\n",
    "    'Microglia',\n",
    "    'Endothelial_cell',\n",
    "    'Pericyte'\n",
    "]\n",
    "\n",
    "combined_df['cluster'] = pd.Categorical(combined_df['cluster'], categories=ordered_cell_types, ordered=True)\n",
    "combined_df.sort_values('cluster', inplace=True)\n",
    "\n",
    "color_mapping = {\n",
    "    'Astrocyte': '#2ca02c',\n",
    "    'Astrocyte_progenitor': '#f3fbd4',\n",
    "    'Endothelial_cell': '#7f7f7f',\n",
    "    'Ex_neuron': '#ff7f0e',\n",
    "    'In_progenitor': '#ff9896',\n",
    "    'Inhibitory_neuron': '#d62728',\n",
    "    'Microglia': '#8c564b',\n",
    "    'NPC': '#313695',\n",
    "    'pri-OPC': '#aec7e8',\n",
    "    'OPC': '#1f77b4',\n",
    "    'Oligodendrocyte': '#9467bd',\n",
    "    'Pericyte': '#ffbb78'\n",
    "}\n",
    "\n",
    "plt.figure(figsize=(12, 8))\n",
    "strip_plot = sns.stripplot(x=\"cluster\", y=\"logfoldchanges\", data=combined_df, jitter=0.3, palette=color_mapping)\n",
    "\n",
    "plt.ylim(-5, 5)\n",
    "\n",
    "for i, cell_type in enumerate(ordered_cell_types):\n",
    "    num_pos_genes = combined_df[(combined_df['cluster'] == cell_type) & (combined_df['logfoldchanges'] > 0)].shape[0]\n",
    "    num_neg_genes = combined_df[(combined_df['cluster'] == cell_type) & (combined_df['logfoldchanges'] < 0)].shape[0]\n",
    "    plt.text(i, 4.5, f'P={num_pos_genes}', ha='center', va='bottom', fontsize=9)\n",
    "    plt.text(i, -4.5, f'N={num_neg_genes}', ha='center', va='top', fontsize=9)\n",
    "\n",
    "plt.title('Log2 fold changes for each cell type with significance')\n",
    "plt.xlabel('Cell Type')\n",
    "plt.ylabel('Average log2 fold change')\n",
    "\n",
    "plt.legend([], [], frameon=False)\n",
    "\n",
    "plt.show()"
   ]
  },
  {
   "cell_type": "code",
   "execution_count": null,
   "id": "314faa8e-3e77-4491-b17c-792bb33194c3",
   "metadata": {},
   "outputs": [],
   "source": []
  },
  {
   "cell_type": "code",
   "execution_count": null,
   "id": "611d07f1-f276-4e71-800a-6d97b2ba9ae9",
   "metadata": {},
   "outputs": [],
   "source": []
  },
  {
   "cell_type": "code",
   "execution_count": null,
   "id": "98babe7f-4d12-464f-8f73-747e27c9aa19",
   "metadata": {},
   "outputs": [],
   "source": []
  }
 ],
 "metadata": {
  "kernelspec": {
   "display_name": "Python 3 (ipykernel)",
   "language": "python",
   "name": "python3"
  },
  "language_info": {
   "codemirror_mode": {
    "name": "ipython",
    "version": 3
   },
   "file_extension": ".py",
   "mimetype": "text/x-python",
   "name": "python",
   "nbconvert_exporter": "python",
   "pygments_lexer": "ipython3",
   "version": "3.9.20"
  }
 },
 "nbformat": 4,
 "nbformat_minor": 5
}
