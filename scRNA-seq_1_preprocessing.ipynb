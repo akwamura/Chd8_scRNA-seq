{
 "cells": [
  {
   "cell_type": "code",
   "execution_count": null,
   "id": "94354874",
   "metadata": {
    "tags": []
   },
   "outputs": [],
   "source": [
    "import warnings\n",
    "warnings.filterwarnings('ignore')\n",
    "\n",
    "import os\n",
    "import numpy as np\n",
    "import pandas as pd\n",
    "import scanpy as sc\n",
    "import anndata\n",
    "import matplotlib.pyplot as plt\n",
    "import seaborn as sns\n",
    "\n",
    "sc.logging.print_header()\n",
    "sc.settings.set_figure_params(dpi=100, facecolor='white')"
   ]
  },
  {
   "cell_type": "markdown",
   "id": "84c43189",
   "metadata": {},
   "source": [
    "## Load data"
   ]
  },
  {
   "cell_type": "code",
   "execution_count": null,
   "id": "7cb4e98d",
   "metadata": {},
   "outputs": [],
   "source": [
    "ad_MTf = sc.read_10x_mtx(path='./cellranger_out/MTf/filtered_feature_bc_matrix/', cache=True)\n",
    "ad_MTm = sc.read_10x_mtx(path='./cellranger_out/MTm/filtered_feature_bc_matrix/', cache=True)\n",
    "ad_WTf = sc.read_10x_mtx(path='./cellranger_out/WTf/filtered_feature_bc_matrix/', cache=True)\n",
    "ad_WTm = sc.read_10x_mtx(path='./cellranger_out/WTm/filtered_feature_bc_matrix/', cache=True)"
   ]
  },
  {
   "cell_type": "code",
   "execution_count": null,
   "id": "8cef678e",
   "metadata": {},
   "outputs": [],
   "source": [
    "display(ad_MTf)"
   ]
  },
  {
   "cell_type": "code",
   "execution_count": null,
   "id": "d93a68d9",
   "metadata": {},
   "outputs": [],
   "source": [
    "display(ad_MTm)"
   ]
  },
  {
   "cell_type": "code",
   "execution_count": null,
   "id": "0ab6ca4f",
   "metadata": {},
   "outputs": [],
   "source": [
    "display(ad_WTf)"
   ]
  },
  {
   "cell_type": "code",
   "execution_count": null,
   "id": "2734ca68",
   "metadata": {},
   "outputs": [],
   "source": [
    "display(ad_WTm)"
   ]
  },
  {
   "cell_type": "code",
   "execution_count": null,
   "id": "e941205c",
   "metadata": {},
   "outputs": [],
   "source": [
    "ad_MTf.obs['Genotype'] = 'MT'\n",
    "ad_MTf.obs['Sex'] = 'female'\n",
    "\n",
    "ad_MTm.obs['Genotype'] = 'MT'\n",
    "ad_MTm.obs['Sex'] = 'male'\n",
    "\n",
    "ad_WTf.obs['Genotype'] = 'WT'\n",
    "ad_WTf.obs['Sex'] = 'female'\n",
    "\n",
    "ad_WTm.obs['Genotype'] = 'WT'\n",
    "ad_WTm.obs['Sex'] = 'male'"
   ]
  },
  {
   "cell_type": "code",
   "execution_count": null,
   "id": "c6fd747f",
   "metadata": {},
   "outputs": [],
   "source": [
    "adata = ad_MTf.concatenate([ad_MTm, ad_WTf, ad_WTm], batch_categories=['MTf', 'MTm', 'WTf', 'WTm'])"
   ]
  },
  {
   "cell_type": "code",
   "execution_count": null,
   "id": "bcec686a",
   "metadata": {},
   "outputs": [],
   "source": [
    "adata"
   ]
  },
  {
   "cell_type": "markdown",
   "id": "3cb19461",
   "metadata": {},
   "source": [
    "## Preprocessing"
   ]
  },
  {
   "cell_type": "code",
   "execution_count": null,
   "id": "f8cacf83",
   "metadata": {},
   "outputs": [],
   "source": [
    "adata.obs['batch'].value_counts()"
   ]
  },
  {
   "cell_type": "code",
   "execution_count": null,
   "id": "357f4482",
   "metadata": {},
   "outputs": [],
   "source": [
    "sc.pp.filter_cells(adata, min_genes=200)\n",
    "sc.pp.filter_genes(adata, min_cells=20)"
   ]
  },
  {
   "cell_type": "code",
   "execution_count": null,
   "id": "d5d62e9a",
   "metadata": {},
   "outputs": [],
   "source": [
    "adata.obs['batch'].value_counts()"
   ]
  },
  {
   "cell_type": "code",
   "execution_count": null,
   "id": "1034070e",
   "metadata": {},
   "outputs": [],
   "source": [
    "adata.var['mt'] = adata.var_names.str.startswith('mt-')"
   ]
  },
  {
   "cell_type": "code",
   "execution_count": null,
   "id": "c4a09c2d",
   "metadata": {},
   "outputs": [],
   "source": [
    "sc.pp.calculate_qc_metrics(adata, qc_vars=['mt'], percent_top=None, log1p=False, inplace=True)"
   ]
  },
  {
   "cell_type": "code",
   "execution_count": null,
   "id": "435de42e",
   "metadata": {},
   "outputs": [],
   "source": [
    "adata.obs"
   ]
  },
  {
   "cell_type": "code",
   "execution_count": null,
   "id": "9b362d1d",
   "metadata": {},
   "outputs": [],
   "source": [
    "fig = plt.figure(figsize=(16,4))\n",
    "ax = fig.add_subplot(111)\n",
    "sc.pl.violin(adata, ['n_genes_by_counts'],\n",
    "             groupby='batch',\n",
    "             jitter=0.4, multi_panel=True,\n",
    "             ax=ax)"
   ]
  },
  {
   "cell_type": "code",
   "execution_count": null,
   "id": "e4af732c",
   "metadata": {},
   "outputs": [],
   "source": [
    "fig = plt.figure(figsize=(16,4))\n",
    "ax = fig.add_subplot(111)\n",
    "sc.pl.violin(adata, ['total_counts'],\n",
    "             groupby='batch',\n",
    "             jitter=0.4, multi_panel=True,\n",
    "             ax=ax)"
   ]
  },
  {
   "cell_type": "code",
   "execution_count": null,
   "id": "78271a90",
   "metadata": {},
   "outputs": [],
   "source": [
    "fig = plt.figure(figsize=(16,4))\n",
    "ax = fig.add_subplot(111)\n",
    "sc.pl.violin(adata, ['pct_counts_mt'],\n",
    "             groupby='batch',\n",
    "             jitter=0.4, multi_panel=True,\n",
    "             ax=ax)"
   ]
  },
  {
   "cell_type": "code",
   "execution_count": null,
   "id": "27e03da6",
   "metadata": {},
   "outputs": [],
   "source": [
    "target = adata[adata.obs['batch'] == 'MTf']\n",
    "\n",
    "sc.pl.scatter(target, 'total_counts', 'n_genes_by_counts', color='pct_counts_mt', size=40)\n",
    "sns.displot(target.obs['pct_counts_mt'][target.obs['pct_counts_mt'] < 30], kde=False)"
   ]
  },
  {
   "cell_type": "code",
   "execution_count": null,
   "id": "fc0c17ba",
   "metadata": {},
   "outputs": [],
   "source": [
    "target = adata[adata.obs['batch'] == 'MTm']\n",
    "\n",
    "sc.pl.scatter(target, 'total_counts', 'n_genes_by_counts', color='pct_counts_mt', size=40)\n",
    "sns.displot(target.obs['pct_counts_mt'][target.obs['pct_counts_mt'] < 30], kde=False)"
   ]
  },
  {
   "cell_type": "code",
   "execution_count": null,
   "id": "5b7dd18f",
   "metadata": {},
   "outputs": [],
   "source": [
    "target = adata[adata.obs['batch'] == 'WTf']\n",
    "\n",
    "sc.pl.scatter(target, 'total_counts', 'n_genes_by_counts', color='pct_counts_mt', size=40)\n",
    "sns.displot(target.obs['pct_counts_mt'][target.obs['pct_counts_mt'] < 30], kde=False)"
   ]
  },
  {
   "cell_type": "code",
   "execution_count": null,
   "id": "72777469",
   "metadata": {},
   "outputs": [],
   "source": [
    "target = adata[adata.obs['batch'] == 'WTm']\n",
    "\n",
    "sc.pl.scatter(target, 'total_counts', 'n_genes_by_counts', color='pct_counts_mt', size=40)\n",
    "sns.displot(target.obs['pct_counts_mt'][target.obs['pct_counts_mt'] < 30], kde=False)"
   ]
  },
  {
   "cell_type": "code",
   "execution_count": null,
   "id": "68413b75",
   "metadata": {},
   "outputs": [],
   "source": [
    "MIN_COUNTS = 2000\n",
    "MAX_COUNTS = 40000\n",
    "MIN_GENES = 1000\n",
    "MT_PCT = 10\n",
    "\n",
    "print('Total number of cells: {:d}'.format(adata.n_obs))\n",
    "\n",
    "sc.pp.filter_cells(adata, min_counts = MIN_COUNTS)\n",
    "print('Number of cells after min count filter: {:d}'.format(adata.n_obs))\n",
    "\n",
    "sc.pp.filter_cells(adata, max_counts = MAX_COUNTS)\n",
    "print('Number of cells after max count filter: {:d}'.format(adata.n_obs))\n",
    "\n",
    "sc.pp.filter_cells(adata, min_genes = MIN_GENES)\n",
    "print('Number of cells after gene filter: {:d}'.format(adata.n_obs))\n",
    "\n",
    "adata = adata[adata.obs['pct_counts_mt'] < MT_PCT]\n",
    "print('Number of cells after MT filter: {:d}'.format(adata.n_obs))"
   ]
  },
  {
   "cell_type": "code",
   "execution_count": null,
   "id": "e5dac180",
   "metadata": {},
   "outputs": [],
   "source": [
    "adata"
   ]
  },
  {
   "cell_type": "code",
   "execution_count": null,
   "id": "aa495392",
   "metadata": {},
   "outputs": [],
   "source": [
    "adata.obs['batch'].value_counts()"
   ]
  },
  {
   "cell_type": "code",
   "execution_count": null,
   "id": "ab7641b6",
   "metadata": {},
   "outputs": [],
   "source": [
    "adata.obs.groupby('batch')['total_counts'].describe()"
   ]
  },
  {
   "cell_type": "code",
   "execution_count": null,
   "id": "9b4e6a6b",
   "metadata": {},
   "outputs": [],
   "source": [
    "adata.layers['counts'] = adata.X.copy()"
   ]
  },
  {
   "cell_type": "code",
   "execution_count": null,
   "id": "d0d998a8",
   "metadata": {},
   "outputs": [],
   "source": [
    "sc.pp.normalize_per_cell(adata, counts_per_cell_after=1e4)\n",
    "sc.pp.log1p(adata)"
   ]
  },
  {
   "cell_type": "code",
   "execution_count": null,
   "id": "2d34697e",
   "metadata": {},
   "outputs": [],
   "source": [
    "adata.raw = adata"
   ]
  },
  {
   "cell_type": "code",
   "execution_count": null,
   "id": "1a136b21",
   "metadata": {},
   "outputs": [],
   "source": [
    "sc.pp.highly_variable_genes(adata, flavor='seurat_v3', n_top_genes=2000)\n",
    "print('\\n','Number of highly variable genes: {:d}'.format(np.sum(adata.var['highly_variable'])))"
   ]
  },
  {
   "cell_type": "code",
   "execution_count": null,
   "id": "24658bc2",
   "metadata": {},
   "outputs": [],
   "source": [
    "sc.pl.highly_variable_genes(adata)"
   ]
  },
  {
   "cell_type": "code",
   "execution_count": null,
   "id": "63bcf68c",
   "metadata": {},
   "outputs": [],
   "source": [
    "adata.write(filename='./adata.h5ad')"
   ]
  },
  {
   "cell_type": "markdown",
   "id": "5c35a35e",
   "metadata": {},
   "source": [
    "## Embedding"
   ]
  },
  {
   "cell_type": "code",
   "execution_count": null,
   "id": "9de51bee",
   "metadata": {},
   "outputs": [],
   "source": [
    "sc.pp.pca(adata, use_highly_variable=True, svd_solver='arpack')\n",
    "sc.pp.neighbors(adata)\n",
    "sc.tl.tsne(adata)\n",
    "sc.tl.umap(adata)\n",
    "sc.tl.leiden(adata, resolution=0.5, key_added='leiden_r0.5')"
   ]
  },
  {
   "cell_type": "code",
   "execution_count": null,
   "id": "6fd30c0e",
   "metadata": {},
   "outputs": [],
   "source": [
    "adata"
   ]
  },
  {
   "cell_type": "code",
   "execution_count": null,
   "id": "146a0636",
   "metadata": {},
   "outputs": [],
   "source": [
    "sc.pl.pca(adata, color=['total_counts', 'batch'])"
   ]
  },
  {
   "cell_type": "code",
   "execution_count": null,
   "id": "5c131f74",
   "metadata": {},
   "outputs": [],
   "source": [
    "sc.pl.pca(adata[adata.obs['batch'] == 'MTf'], color='total_counts', size=40)"
   ]
  },
  {
   "cell_type": "code",
   "execution_count": null,
   "id": "cfe230da",
   "metadata": {},
   "outputs": [],
   "source": [
    "sc.pl.pca(adata[adata.obs['batch'] == 'MTm'], color='total_counts', size=40)"
   ]
  },
  {
   "cell_type": "code",
   "execution_count": null,
   "id": "9fd29ab5",
   "metadata": {},
   "outputs": [],
   "source": [
    "sc.pl.pca(adata[adata.obs['batch'] == 'WTf'], color='total_counts', size=40)"
   ]
  },
  {
   "cell_type": "code",
   "execution_count": null,
   "id": "b15bb2f9",
   "metadata": {},
   "outputs": [],
   "source": [
    "sc.pl.pca(adata[adata.obs['batch'] == 'WTm'], color='total_counts', size=40)"
   ]
  },
  {
   "cell_type": "code",
   "execution_count": null,
   "id": "ebbfd65e",
   "metadata": {},
   "outputs": [],
   "source": [
    "sc.pl.umap(adata, color=['total_counts', 'batch'])"
   ]
  },
  {
   "cell_type": "code",
   "execution_count": null,
   "id": "95772e18",
   "metadata": {},
   "outputs": [],
   "source": [
    "sc.pl.umap(adata[adata.obs['batch'] == 'MTf'], color='total_counts', size=20)"
   ]
  },
  {
   "cell_type": "code",
   "execution_count": null,
   "id": "b0636fe7",
   "metadata": {},
   "outputs": [],
   "source": [
    "sc.pl.umap(adata[adata.obs['batch'] == 'MTm'], color='total_counts', size=20)"
   ]
  },
  {
   "cell_type": "code",
   "execution_count": null,
   "id": "ab47071b",
   "metadata": {},
   "outputs": [],
   "source": [
    "sc.pl.umap(adata[adata.obs['batch'] == 'WTf'], color='total_counts', size=20)"
   ]
  },
  {
   "cell_type": "code",
   "execution_count": null,
   "id": "d605edbc",
   "metadata": {},
   "outputs": [],
   "source": [
    "sc.pl.umap(adata[adata.obs['batch'] == 'WTm'], color='total_counts', size=20)"
   ]
  },
  {
   "cell_type": "code",
   "execution_count": null,
   "id": "c4f5b39f",
   "metadata": {},
   "outputs": [],
   "source": [
    "sc.pl.umap(adata,\n",
    "           color=['batch', 'leiden_r0.5'],\n",
    "           ncols=2,\n",
    "           frameon=False)"
   ]
  },
  {
   "cell_type": "markdown",
   "id": "27f499d7",
   "metadata": {},
   "source": [
    "## Batch correction"
   ]
  },
  {
   "cell_type": "code",
   "execution_count": null,
   "id": "0defee76",
   "metadata": {
    "tags": []
   },
   "outputs": [],
   "source": [
    "import scvi"
   ]
  },
  {
   "cell_type": "code",
   "execution_count": null,
   "id": "3d3b607c",
   "metadata": {},
   "outputs": [],
   "source": [
    "scvi.model.SCVI.setup_anndata(\n",
    "    adata,\n",
    "    layer='counts',\n",
    "    batch_key='batch',\n",
    ")"
   ]
  },
  {
   "cell_type": "code",
   "execution_count": null,
   "id": "07dbd1de",
   "metadata": {
    "tags": []
   },
   "outputs": [],
   "source": [
    "model = scvi.model.SCVI(adata)"
   ]
  },
  {
   "cell_type": "code",
   "execution_count": null,
   "id": "43c65c80",
   "metadata": {
    "tags": []
   },
   "outputs": [],
   "source": [
    "model.train()"
   ]
  },
  {
   "cell_type": "code",
   "execution_count": null,
   "id": "79ef27b0",
   "metadata": {
    "tags": []
   },
   "outputs": [],
   "source": [
    "model.save('./models/scVI_model', overwrite=True)"
   ]
  },
  {
   "cell_type": "code",
   "execution_count": null,
   "id": "5d834b88",
   "metadata": {
    "tags": []
   },
   "outputs": [],
   "source": [
    "model = scvi.model.SCVI.load('./models/scVI_model', adata=adata)"
   ]
  },
  {
   "cell_type": "code",
   "execution_count": null,
   "id": "fa91842f",
   "metadata": {
    "tags": []
   },
   "outputs": [],
   "source": [
    "adata.obsm['X_scVI'] = model.get_latent_representation()"
   ]
  },
  {
   "cell_type": "code",
   "execution_count": null,
   "id": "b9cb6e9d",
   "metadata": {
    "tags": []
   },
   "outputs": [],
   "source": [
    "adata.layers['scvi_normalized'] = model.get_normalized_expression(library_size=1e4)"
   ]
  },
  {
   "cell_type": "code",
   "execution_count": null,
   "id": "72bdc899",
   "metadata": {
    "tags": []
   },
   "outputs": [],
   "source": [
    "adata"
   ]
  },
  {
   "cell_type": "code",
   "execution_count": null,
   "id": "f73315ba",
   "metadata": {
    "tags": []
   },
   "outputs": [],
   "source": [
    "adata.write(filename='./ad_scvimodel.h5ad')"
   ]
  },
  {
   "cell_type": "code",
   "execution_count": null,
   "id": "58d2321a",
   "metadata": {},
   "outputs": [],
   "source": [
    "sc.pp.neighbors(adata,\n",
    "                n_neighbors=30,\n",
    "                use_rep=\"X_scVI\")\n",
    "sc.tl.umap(adata, min_dist=0.5)\n",
    "sc.pl.umap(adata, color='batch')"
   ]
  },
  {
   "cell_type": "code",
   "execution_count": null,
   "id": "7dc67d98",
   "metadata": {},
   "outputs": [],
   "source": []
  }
 ],
 "metadata": {
  "kernelspec": {
   "display_name": "Python 3 (ipykernel)",
   "language": "python",
   "name": "python3"
  },
  "language_info": {
   "codemirror_mode": {
    "name": "ipython",
    "version": 3
   },
   "file_extension": ".py",
   "mimetype": "text/x-python",
   "name": "python",
   "nbconvert_exporter": "python",
   "pygments_lexer": "ipython3",
   "version": "3.9.20"
  }
 },
 "nbformat": 4,
 "nbformat_minor": 5
}
