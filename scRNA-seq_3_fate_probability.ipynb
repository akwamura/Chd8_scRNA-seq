{
 "cells": [
  {
   "cell_type": "code",
   "execution_count": null,
   "id": "9c39078b",
   "metadata": {},
   "outputs": [],
   "source": [
    "import warnings\n",
    "warnings.filterwarnings('ignore')\n",
    "\n",
    "import os\n",
    "import numpy as np\n",
    "import pandas as pd\n",
    "import scanpy as sc\n",
    "import anndata\n",
    "import matplotlib.pyplot as plt\n",
    "import seaborn as sns\n",
    "import scvelo as scv\n",
    "import cellrank as cr\n",
    "\n",
    "sc.logging.print_header()\n",
    "cr.logging.print_versions()\n",
    "sc.settings.set_figure_params(dpi=100, facecolor='white')"
   ]
  },
  {
   "cell_type": "code",
   "execution_count": null,
   "id": "2430f11c-d613-45cc-b3a0-903fb3410665",
   "metadata": {},
   "outputs": [],
   "source": [
    "adata = sc.read_h5ad('./ad_scvimodel.h5ad')"
   ]
  },
  {
   "cell_type": "code",
   "execution_count": null,
   "id": "27b8b43c-90b1-4469-a0c1-fdb3acfa56ac",
   "metadata": {},
   "outputs": [],
   "source": [
    "adata"
   ]
  },
  {
   "cell_type": "code",
   "execution_count": null,
   "id": "00f1356d-3224-48fe-8efc-8cc910c358fe",
   "metadata": {},
   "outputs": [],
   "source": [
    "cell_type_names = {\n",
    "    '0': 'Astrocyte',\n",
    "    '1': 'Inhibitory_neuron',\n",
    "    '2': 'OPC',\n",
    "    '3': 'In_progenitor',\n",
    "    '4': 'Ex_neuron',\n",
    "    '5': 'Astrocyte_progenitor',\n",
    "    '6': 'Astrocyte',\n",
    "    '7': 'NPC',\n",
    "    '8': 'OPC',\n",
    "    '9': 'Inhibitory_neuron',\n",
    "    '10': 'Pericyte',\n",
    "    '11': 'Oligodendrocyte',\n",
    "    '12': 'pri-OPC',\n",
    "    '13': 'Microglia',\n",
    "    '14': 'Ex_neuron',\n",
    "    '15': 'Endothelial_cell',\n",
    "    '16': 'Astrocyte',\n",
    "    '17': 'Pericyte'\n",
    "}\n",
    "\n",
    "adata.obs['cell_type_name'] = adata.obs['leiden_scVI'].map(cell_type_names)"
   ]
  },
  {
   "cell_type": "code",
   "execution_count": null,
   "id": "61cfd251-4875-4a65-92bb-211978465470",
   "metadata": {},
   "outputs": [],
   "source": [
    "sc.pl.umap(adata,\n",
    "           color=['Genotype', 'cell_type_name'],\n",
    "           ncols=2,\n",
    "           frameon=False)"
   ]
  },
  {
   "cell_type": "code",
   "execution_count": null,
   "id": "e4cc490d-f212-4da1-bace-2bfe950dada1",
   "metadata": {},
   "outputs": [],
   "source": [
    "\n",
    "cluster_to_color = {\n",
    "    'Astrocyte': '#2ca02c',\n",
    "    'Astrocyte_progenitor': '#f3fbd4',\n",
    "    'Endothelial_cell': '#7f7f7f',\n",
    "    'Ex_neuron': '#ff7f0e',\n",
    "    'In_progenitor': '#ff9896',\n",
    "    'Inhibitory_neuron': '#d62728',\n",
    "    'Microglia': '#8c564b',\n",
    "    'NPC': '#313695',\n",
    "    'pri-OPC': '#aec7e8',\n",
    "    'OPC': '#1f77b4',\n",
    "    'Oligodendrocyte': '#9467bd',\n",
    "    'Pericyte': '#ffbb78'\n",
    "}\n",
    "\n",
    "\n",
    "adata.obs['cell_type_name_colors'] = adata.obs['cell_type_name'].map(cluster_to_color)\n",
    "\n",
    "palette = [cluster_to_color[cluster] for cluster in adata.obs['cell_type_name'].cat.categories]\n",
    "\n",
    "sc.pl.umap(\n",
    "    adata,\n",
    "    color='cell_type_name',\n",
    "    palette=palette,\n",
    "    add_outline=True,\n",
    "    legend_loc='on data',\n",
    "    legend_fontsize=12,\n",
    "    legend_fontoutline=2,\n",
    "    frameon=False,\n",
    "    title='UMAP colored by Leiden Clustering')"
   ]
  },
  {
   "cell_type": "code",
   "execution_count": null,
   "id": "c5c6ad3f-5620-4025-a103-20c814d112d3",
   "metadata": {},
   "outputs": [],
   "source": [
    "import loompy\n",
    "loompy.combine(['WTm.loom',\n",
    "                'MTm.loom',\n",
    "                'WTf.loom',\n",
    "                'MTf.loom'],\n",
    "               output_file='./merged_loom_data/velo.loom')"
   ]
  },
  {
   "cell_type": "code",
   "execution_count": null,
   "id": "43bee6d0-7f61-4ea6-bde2-63b39aa3d1ea",
   "metadata": {},
   "outputs": [],
   "source": [
    "scv.set_figure_params()"
   ]
  },
  {
   "cell_type": "code",
   "execution_count": null,
   "id": "b5e4d946-c38e-4c7b-af91-2ff1d5c73b91",
   "metadata": {},
   "outputs": [],
   "source": [
    "ldata = scv.read('./merged_loom_data/velo.loom', cache=True)\n",
    "\n",
    "cluster_colors = adata.uns['cell_type_name_colors']\n",
    "adata = scv.utils.merge(adata, ldata, id_length=16)\n",
    "adata.uns['cell_type_name_colors2'] = cluster_colors"
   ]
  },
  {
   "cell_type": "code",
   "execution_count": null,
   "id": "3a924824-6512-4bdc-86a6-d87d64e6fdfd",
   "metadata": {},
   "outputs": [],
   "source": [
    "scv.pl.proportions(adata, groupby='cell_type_name')"
   ]
  },
  {
   "cell_type": "code",
   "execution_count": null,
   "id": "b0e21db5-bf9d-4a22-8147-0ccee62a7c4b",
   "metadata": {},
   "outputs": [],
   "source": [
    "scv.pp.moments(adata, use_rep='X_scVI')"
   ]
  },
  {
   "cell_type": "code",
   "execution_count": null,
   "id": "fca71de0-5895-482b-a0fc-95963ff6872b",
   "metadata": {},
   "outputs": [],
   "source": [
    "scv.tl.velocity(adata, mode='stochastic')"
   ]
  },
  {
   "cell_type": "code",
   "execution_count": null,
   "id": "6d728563-49ec-4eef-9e70-162a9e841caf",
   "metadata": {},
   "outputs": [],
   "source": [
    "scv.tl.velocity_graph(adata)"
   ]
  },
  {
   "cell_type": "code",
   "execution_count": null,
   "id": "11dfd2a2-8ffd-479c-bc2d-cad84642a127",
   "metadata": {},
   "outputs": [],
   "source": [
    "scv.pl.velocity_embedding_stream(adata, \n",
    "        basis='X_umap', color='cell_type_name',\n",
    "        legend_fontsize=8,\n",
    "        smooth=0.7, min_mass=4)"
   ]
  },
  {
   "cell_type": "code",
   "execution_count": null,
   "id": "0d8455a2-8d04-4824-97e6-5388955fd8b2",
   "metadata": {},
   "outputs": [],
   "source": [
    "scv.tl.recover_dynamics(adata, n_jobs=1)\n",
    "scv.tl.recover_latent_time(\n",
    "    adata,\n",
    "    root_key='initial_states_probs', \n",
    "    end_key='terminal_states_probs')"
   ]
  },
  {
   "cell_type": "code",
   "execution_count": null,
   "id": "6fc80025-43db-4e58-aa06-459d055af6ae",
   "metadata": {},
   "outputs": [],
   "source": [
    "scv.pl.scatter(\n",
    "    adata,\n",
    "    color=['cell_type_name', 'latent_time'],\n",
    "    fontsize=16,\n",
    "    cmap='viridis',\n",
    "    perc=[2, 98],\n",
    "    colorbar=True,\n",
    "    rescale_color=[0, 1],\n",
    "    title=['clusters', 'latent time'])"
   ]
  },
  {
   "cell_type": "code",
   "execution_count": null,
   "id": "c1375ddb-4756-41f3-bcde-4d4bcef39cea",
   "metadata": {},
   "outputs": [],
   "source": [
    "filtered_adata = adata[adata.obs['cell_type_name'].isin(['NPC', 'Ex_neuron', 'In_progenitor', 'Inhibitory_neuron', 'Astrocyte_progenitor', 'Astrocyte', 'pri-OPC', 'OPC', 'Oligodendrocyte'])].copy()\n",
    "filtered_adata"
   ]
  },
  {
   "cell_type": "code",
   "execution_count": null,
   "id": "e7e4d83c-ed2b-4a29-89ab-818151fde15c",
   "metadata": {},
   "outputs": [],
   "source": [
    "scv.pl.proportions(filtered_adata, groupby='cell_type_name')"
   ]
  },
  {
   "cell_type": "code",
   "execution_count": null,
   "id": "48701465-7e36-4a4e-9ae2-a21bad8ffaff",
   "metadata": {},
   "outputs": [],
   "source": [
    "scv.pl.velocity_embedding_stream(filtered_adata, \n",
    "        basis='X_umap', color='cell_type_name',\n",
    "        legend_fontsize=8,\n",
    "        smooth=0.7, min_mass=4)"
   ]
  },
  {
   "cell_type": "code",
   "execution_count": null,
   "id": "b98f54d6",
   "metadata": {},
   "outputs": [],
   "source": [
    "sc.pl.embedding(filtered_adata, basis=\"umap\", color=[\"cell_type_name\", \"latent_time\"])\n",
    "sc.pl.embedding(filtered_adata[filtered_adata.obs['Genotype']=='WT'], basis=\"umap\", color=[\"cell_type_name\", \"latent_time\"])\n",
    "sc.pl.embedding(filtered_adata[filtered_adata.obs['Genotype']=='MT'], basis=\"umap\", color=[\"cell_type_name\", \"latent_time\"])"
   ]
  },
  {
   "cell_type": "code",
   "execution_count": null,
   "id": "0b2886a6",
   "metadata": {},
   "outputs": [],
   "source": [
    "from cellrank.kernels import PseudotimeKernel\n",
    "\n",
    "pk = PseudotimeKernel(filtered_adata, time_key=\"latent_time\")"
   ]
  },
  {
   "cell_type": "code",
   "execution_count": null,
   "id": "31a12413",
   "metadata": {},
   "outputs": [],
   "source": [
    "pk"
   ]
  },
  {
   "cell_type": "code",
   "execution_count": null,
   "id": "54ff01fa",
   "metadata": {},
   "outputs": [],
   "source": []
  },
  {
   "cell_type": "code",
   "execution_count": null,
   "id": "38a3a7e4",
   "metadata": {},
   "outputs": [],
   "source": [
    "pk.compute_transition_matrix()"
   ]
  },
  {
   "cell_type": "code",
   "execution_count": null,
   "id": "f4123847",
   "metadata": {},
   "outputs": [],
   "source": [
    "pk"
   ]
  },
  {
   "cell_type": "code",
   "execution_count": null,
   "id": "5cbc54ea",
   "metadata": {},
   "outputs": [],
   "source": [
    "pk.plot_random_walks(\n",
    "    seed=0,\n",
    "    n_sims=100,\n",
    "    start_ixs={\"cell_type_name\": \"NPC\"},\n",
    "    basis=\"umap\",\n",
    "    legend_loc=\"right\",\n",
    "    dpi=150,\n",
    ")"
   ]
  },
  {
   "cell_type": "code",
   "execution_count": null,
   "id": "43d71127",
   "metadata": {},
   "outputs": [],
   "source": [
    "from cellrank.kernels import ConnectivityKernel\n",
    "\n",
    "ck = ConnectivityKernel(filtered_adata).compute_transition_matrix()"
   ]
  },
  {
   "cell_type": "code",
   "execution_count": null,
   "id": "4d8bfa4c",
   "metadata": {},
   "outputs": [],
   "source": [
    "ck"
   ]
  },
  {
   "cell_type": "code",
   "execution_count": null,
   "id": "48be58e1",
   "metadata": {},
   "outputs": [],
   "source": [
    "combined_kernel = 0.8 * pk + 0.2 * ck\n",
    "combined_kernel"
   ]
  },
  {
   "cell_type": "code",
   "execution_count": null,
   "id": "38ee016f",
   "metadata": {},
   "outputs": [],
   "source": [
    "combined_kernel.plot_projection()"
   ]
  },
  {
   "cell_type": "code",
   "execution_count": null,
   "id": "0194725c",
   "metadata": {},
   "outputs": [],
   "source": [
    "pk.write_to_adata()\n",
    "filtered_adata.write(\"filtered_adata_cellrank2.h5ad\")"
   ]
  },
  {
   "cell_type": "code",
   "execution_count": null,
   "id": "fa641c23",
   "metadata": {},
   "outputs": [],
   "source": [
    "filtered_adata = sc.read(\"filtered_adata_cellrank2.h5ad\")\n",
    "pk_new = cr.kernels.PseudotimeKernel.from_adata(filtered_adata, key=\"T_fwd\")\n",
    "pk_new"
   ]
  },
  {
   "cell_type": "code",
   "execution_count": null,
   "id": "af0a8660",
   "metadata": {},
   "outputs": [],
   "source": [
    "from cellrank.estimators import GPCCA\n",
    "\n",
    "g = GPCCA(pk_new)\n",
    "print(g)"
   ]
  },
  {
   "cell_type": "code",
   "execution_count": null,
   "id": "57f58d72",
   "metadata": {},
   "outputs": [],
   "source": [
    "g.fit(n_states=12, cluster_key=\"cell_type_name\")\n",
    "g.plot_macrostates(which=\"all\")"
   ]
  },
  {
   "cell_type": "code",
   "execution_count": null,
   "id": "2b55b07e",
   "metadata": {},
   "outputs": [],
   "source": [
    "g.set_terminal_states(states=[\"Oligodendrocyte\", \"Ex_neuron_1\", \"Inhibitory_neuron_1\", \"NPC\", \"OPC\", \"Astrocyte_2\"])\n",
    "g.plot_macrostates(which=\"terminal\", legend_loc=\"right\", size=100)"
   ]
  },
  {
   "cell_type": "code",
   "execution_count": null,
   "id": "a0f98452",
   "metadata": {},
   "outputs": [],
   "source": [
    "g.compute_fate_probabilities()\n",
    "g.plot_fate_probabilities(legend_loc=\"right\")"
   ]
  },
  {
   "cell_type": "code",
   "execution_count": null,
   "id": "46774c93",
   "metadata": {},
   "outputs": [],
   "source": [
    "cr.pl.circular_projection(filtered_adata, keys=\"cell_type_name\", legend_loc=\"right\")"
   ]
  },
  {
   "cell_type": "code",
   "execution_count": null,
   "id": "1ee1b764",
   "metadata": {},
   "outputs": [],
   "source": [
    "oligo_drivers = g.compute_lineage_drivers(lineages=\"Oligodendrocyte\")\n",
    "oligo_drivers.head(10)"
   ]
  },
  {
   "cell_type": "code",
   "execution_count": null,
   "id": "b7cad17d",
   "metadata": {},
   "outputs": [],
   "source": [
    "model = cr.models.GAMR(filtered_adata)"
   ]
  },
  {
   "cell_type": "code",
   "execution_count": null,
   "id": "98f118be",
   "metadata": {},
   "outputs": [],
   "source": [
    "cr.pl.gene_trends(\n",
    "    filtered_adata,\n",
    "    model=model,\n",
    "    data_key='X',\n",
    "    genes=['Sox10', 'Bcas1', 'Gpr17'],\n",
    "    ncols=3,\n",
    "    time_key=\"latent_time\",\n",
    "    same_plot=True,\n",
    "    hide_cells=True,\n",
    "    figsize=(15, 4),\n",
    "    n_test_points=200)"
   ]
  },
  {
   "cell_type": "code",
   "execution_count": null,
   "id": "90504dd4",
   "metadata": {},
   "outputs": [],
   "source": [
    "cr.pl.heatmap(\n",
    "    filtered_adata,\n",
    "    model=model,\n",
    "    data_key=\"X\",\n",
    "    genes=['Sox10', 'Bcas1', 'Gpr17'],\n",
    "    lineages=[\"Oligodendrocyte\", \"Ex_neuron_1\", \"Inhibitory_neuron_1\"],\n",
    "    time_key=\"latent_time\",\n",
    "    cbar=False,\n",
    "    show_all_genes=True,\n",
    ")"
   ]
  },
  {
   "cell_type": "code",
   "execution_count": null,
   "id": "517ad0d1",
   "metadata": {},
   "outputs": [],
   "source": [
    "cr.pl.heatmap(\n",
    "    filtered_adata,\n",
    "    model=model,\n",
    "    data_key=\"X\",\n",
    "    genes=['Dlx1', 'Dlx2', 'Gad1'],\n",
    "    lineages=[\"Oligodendrocyte\", \"Ex_neuron_1\", \"Inhibitory_neuron_1\"],\n",
    "    time_key=\"latent_time\",\n",
    "    cbar=False,\n",
    "    show_all_genes=True,\n",
    ")"
   ]
  },
  {
   "cell_type": "code",
   "execution_count": null,
   "id": "d3b21891",
   "metadata": {},
   "outputs": [],
   "source": [
    "g.compute_fate_probabilities()\n",
    "g.plot_fate_probabilities(same_plot=False)"
   ]
  },
  {
   "cell_type": "code",
   "execution_count": null,
   "id": "ee455cd8",
   "metadata": {},
   "outputs": [],
   "source": [
    "sc.pl.violin(filtered_adata, keys=[\"latent_time\"], groupby=\"cell_type_name\", rotation=90)"
   ]
  },
  {
   "cell_type": "code",
   "execution_count": null,
   "id": "bb09a9da",
   "metadata": {},
   "outputs": [],
   "source": [
    "filtered_adata.obs[\"fate_probabilities_oligo\"] = g.fate_probabilities[\"Oligodendrocyte\"].X.flatten()\n",
    "\n",
    "cr.pl.heatmap(\n",
    "    filtered_adata,\n",
    "    model=model,\n",
    "    data_key=\"X\",\n",
    "    genes=['Pcna', 'Ascl1', 'Pdgfra', 'Gpr17', 'Mbp'],\n",
    "    lineages=[\"Oligodendrocyte\", \"Ex_neuron_1\", \"Inhibitory_neuron_1\"],\n",
    "    time_key=\"fate_probabilities_oligo\",\n",
    "    cbar=True,\n",
    "    show_all_genes=True)"
   ]
  },
  {
   "cell_type": "code",
   "execution_count": null,
   "id": "db5f663f",
   "metadata": {},
   "outputs": [],
   "source": [
    "filtered_adata.obs[\"fate_probabilities_In\"] = g.fate_probabilities[\"Inhibitory_neuron_1\"].X.flatten()\n",
    "\n",
    "cr.pl.heatmap(\n",
    "    filtered_adata,\n",
    "    model=model,\n",
    "    data_key=\"X\",\n",
    "    genes=['Pcna', 'Dlx2', 'Dlx5', 'Gad1', 'Hmgn2'],\n",
    "    lineages=[\"Oligodendrocyte\", \"Ex_neuron_1\", \"Inhibitory_neuron_1\"],\n",
    "    time_key=\"fate_probabilities_In\",\n",
    "    cbar=True,\n",
    "    show_all_genes=True)"
   ]
  },
  {
   "cell_type": "code",
   "execution_count": null,
   "id": "76ae51ea",
   "metadata": {},
   "outputs": [],
   "source": [
    "filtered_adata.obs[\"fate_probabilities_Ex\"] = g.fate_probabilities[\"Ex_neuron_1\"].X.flatten()\n",
    "\n",
    "cr.pl.heatmap(\n",
    "    filtered_adata,\n",
    "    model=model,\n",
    "    data_key=\"X\",\n",
    "    genes=['Pcna', 'Eomes', 'Emx1', 'Neurod1', 'Rbfox1'],\n",
    "    lineages=[\"Oligodendrocyte\", \"Ex_neuron_1\", \"Inhibitory_neuron_1\"],\n",
    "    time_key=\"fate_probabilities_Ex\",\n",
    "    cbar=True,\n",
    "    show_all_genes=True)"
   ]
  },
  {
   "cell_type": "code",
   "execution_count": null,
   "id": "d576162f",
   "metadata": {},
   "outputs": [],
   "source": [
    "fate_probs_df = pd.DataFrame(g.fate_probabilities.X, columns=g.fate_probabilities.names)\n",
    "\n",
    "fate_probs_df['Genotype'] = filtered_adata.obs['Genotype'].values\n",
    "\n",
    "fate_probs_df['cell_type_name'] = filtered_adata.obs['cell_type_name'].values"
   ]
  },
  {
   "cell_type": "code",
   "execution_count": null,
   "id": "6f5b541c",
   "metadata": {},
   "outputs": [],
   "source": [
    "from scipy.stats import ks_2samp\n",
    "\n",
    "data = pd.read_csv('fate_probabilities.csv')\n",
    "\n",
    "selected_cell_types = ['pri-OPC', 'OPC', 'Oligodendrocyte']\n",
    "data = data[data['cell_type_name'].isin(selected_cell_types)]\n",
    "\n",
    "data_wt = data[data['Genotype'] == 'WT']\n",
    "data_mt = data[data['Genotype'] == 'MT']\n",
    "\n",
    "plt.figure(figsize=(10, 6))\n",
    "sns.kdeplot(data_wt['Oligodendrocyte'], label='WT', fill=True, common_norm=False, alpha=0.5)\n",
    "sns.kdeplot(data_mt['Oligodendrocyte'], label='MT', fill=True, common_norm=False, alpha=0.5)\n",
    "plt.legend()\n",
    "plt.title('Density Plot of latent_time by Genotype for Selected Cell Types')\n",
    "plt.xlabel('latent_time')\n",
    "plt.ylabel('Density')\n",
    "plt.xlim(0, 1.2)\n",
    "plt.savefig(\"fate_probabilities_plot_Oligodendrocyte.pdf\")\n",
    "plt.show()\n",
    "\n",
    "statistic, p_value = ks_2samp(data_wt['Oligodendrocyte'], data_mt['Oligodendrocyte'])\n",
    "\n",
    "print(f'KS statistic: {statistic}')\n",
    "print(f'P-value: {p_value}')"
   ]
  },
  {
   "cell_type": "code",
   "execution_count": null,
   "id": "680fb343",
   "metadata": {},
   "outputs": [],
   "source": [
    "data = pd.read_csv('fate_probabilities.csv')\n",
    "\n",
    "selected_cell_types = ['In_progenitor', 'Inhibitory_neuron']\n",
    "data = data[data['cell_type_name'].isin(selected_cell_types)]\n",
    "\n",
    "data_wt = data[data['Genotype'] == 'WT']\n",
    "data_mt = data[data['Genotype'] == 'MT']\n",
    "\n",
    "plt.figure(figsize=(10, 6))\n",
    "sns.kdeplot(data_wt['Inhibitory_neuron_1'], label='WT', fill=True, common_norm=False, alpha=0.5)\n",
    "sns.kdeplot(data_mt['Inhibitory_neuron_1'], label='MT', fill=True, common_norm=False, alpha=0.5)\n",
    "plt.legend()\n",
    "plt.title('Density Plot of latent_time by Genotype for Selected Cell Types')\n",
    "plt.xlabel('latent_time')\n",
    "plt.ylabel('Density')\n",
    "plt.xlim(0, 1.2)\n",
    "plt.show()\n",
    "\n",
    "\n",
    "statistic, p_value = ks_2samp(data_wt['Inhibitory_neuron_1'], data_mt['Inhibitory_neuron_1'])\n",
    "\n",
    "print(f'KS statistic: {statistic}')\n",
    "print(f'P-value: {p_value}')"
   ]
  },
  {
   "cell_type": "code",
   "execution_count": null,
   "id": "68cf173b",
   "metadata": {},
   "outputs": [],
   "source": [
    "from scipy.stats import ks_2samp\n",
    "\n",
    "data = pd.read_csv('fate_probabilities.csv')\n",
    "\n",
    "selected_cell_types = ['Ex_neuron']\n",
    "data = data[data['cell_type_name'].isin(selected_cell_types)]\n",
    "\n",
    "data_wt = data[data['Genotype'] == 'WT']\n",
    "data_mt = data[data['Genotype'] == 'MT']\n",
    "\n",
    "plt.figure(figsize=(10, 6))\n",
    "sns.kdeplot(data_wt['Ex_neuron_1'], label='WT', fill=True, common_norm=False, alpha=0.5)\n",
    "sns.kdeplot(data_mt['Ex_neuron_1'], label='MT', fill=True, common_norm=False, alpha=0.5)\n",
    "plt.legend()\n",
    "plt.title('Density Plot of latent_time by Genotype for Selected Cell Types')\n",
    "plt.xlabel('latent_time')\n",
    "plt.ylabel('Density')\n",
    "plt.xlim(0, 1.2)\n",
    "plt.show()\n",
    "\n",
    "\n",
    "statistic, p_value = ks_2samp(data_wt['Ex_neuron_1'], data_mt['Ex_neuron_1'])\n",
    "\n",
    "print(f'KS statistic: {statistic}')\n",
    "print(f'P-value: {p_value}')"
   ]
  },
  {
   "cell_type": "code",
   "execution_count": null,
   "id": "fb75b6a7",
   "metadata": {},
   "outputs": [],
   "source": [
    "from scipy.stats import ks_2samp\n",
    "\n",
    "data = pd.read_csv('fate_probabilities.csv')\n",
    "\n",
    "selected_cell_types = ['Astrocyte']\n",
    "data = data[data['cell_type_name'].isin(selected_cell_types)]\n",
    "\n",
    "data_wt = data[data['Genotype'] == 'WT']\n",
    "data_mt = data[data['Genotype'] == 'MT']\n",
    "\n",
    "plt.figure(figsize=(10, 6))\n",
    "sns.kdeplot(data_wt['Astrocyte_2'], label='WT', fill=True, common_norm=False, alpha=0.5)\n",
    "sns.kdeplot(data_mt['Astrocyte_2'], label='MT', fill=True, common_norm=False, alpha=0.5)\n",
    "plt.legend()\n",
    "plt.title('Density Plot of latent_time by Genotype for Selected Cell Types')\n",
    "plt.xlabel('latent_time')\n",
    "plt.ylabel('Density')\n",
    "plt.xlim(0, 1.2)\n",
    "plt.savefig(\"fate_probabilities_plot_astrocyte.pdf\")\n",
    "plt.show()\n",
    "\n",
    "statistic, p_value = ks_2samp(data_wt['Astrocyte_2'], data_mt['Astrocyte_2'])\n",
    "\n",
    "print(f'KS statistic: {statistic}')\n",
    "print(f'P-value: {p_value}')"
   ]
  },
  {
   "cell_type": "code",
   "execution_count": null,
   "id": "200b7f5b",
   "metadata": {},
   "outputs": [],
   "source": []
  },
  {
   "cell_type": "code",
   "execution_count": null,
   "id": "34953c9c",
   "metadata": {},
   "outputs": [],
   "source": []
  },
  {
   "cell_type": "code",
   "execution_count": null,
   "id": "c76a6e2c",
   "metadata": {},
   "outputs": [],
   "source": []
  },
  {
   "cell_type": "code",
   "execution_count": null,
   "id": "20232e85",
   "metadata": {},
   "outputs": [],
   "source": []
  }
 ],
 "metadata": {
  "kernelspec": {
   "display_name": "Python 3 (ipykernel)",
   "language": "python",
   "name": "python3"
  },
  "language_info": {
   "codemirror_mode": {
    "name": "ipython",
    "version": 3
   },
   "file_extension": ".py",
   "mimetype": "text/x-python",
   "name": "python",
   "nbconvert_exporter": "python",
   "pygments_lexer": "ipython3",
   "version": "3.9.20"
  }
 },
 "nbformat": 4,
 "nbformat_minor": 5
}
